{
  "nbformat": 4,
  "nbformat_minor": 0,
  "metadata": {
    "colab": {
      "name": "national_flag_recognition",
      "version": "0.3.2",
      "provenance": []
    },
    "kernelspec": {
      "name": "python3",
      "display_name": "Python 3"
    },
    "accelerator": "GPU"
  },
  "cells": [
    {
      "metadata": {
        "id": "lYT0MnuM17iI",
        "colab_type": "text"
      },
      "cell_type": "markdown",
      "source": [
        "# National Flag Recognition\n",
        "**Steps...**\n",
        "<b>\n",
        "    1. Download The Data\n",
        "    2. Process the directory \n",
        "    3. Import Necessary library\n",
        "    4. Making the model\n",
        "    5. Optimizer and Annealer\n",
        "    6. Data Augmentation\n",
        "    7. Model Preperation\n",
        "        7.1. Model Train\n",
        "        7.2. Model Save\n",
        "    8. Training and validation curves\n",
        "    9. Check New Image"
      ]
    },
    {
      "metadata": {
        "id": "eRGCF8Gm1oKj",
        "colab_type": "text"
      },
      "cell_type": "markdown",
      "source": [
        "## 1. Download the data\n",
        "Lets, download the data from the github. If you already downloaded the data no need to run the cell. \n",
        "*Note: This command is for unix*"
      ]
    },
    {
      "metadata": {
        "colab_type": "code",
        "id": "nMxIPAckQhEh",
        "colab": {}
      },
      "cell_type": "code",
      "source": [
        "!wget https://github.com/rakibulislam8/National-Flag-Detection/raw/master/10_country_train_1.zip\n",
        "!wget https://github.com/rakibulislam8/National-Flag-Detection/raw/master/10_country_train_2.zip\n",
        "!wget https://raw.githubusercontent.com/rakibulislam8/National-Flag-Detection/master/10_country_test.zip"
      ],
      "execution_count": 0,
      "outputs": []
    },
    {
      "metadata": {
        "id": "FrCRncMfQiDs",
        "colab_type": "text"
      },
      "cell_type": "markdown",
      "source": [
        "## 2. Process the directory\n",
        "Unzipped the data and save the training data in one folder."
      ]
    },
    {
      "metadata": {
        "colab_type": "code",
        "id": "zXwLwLR0QjIG",
        "colab": {}
      },
      "cell_type": "code",
      "source": [
        "!unzip 10_country_train_1.zip\n",
        "!unzip 10_country_train_2.zip\n",
        "!unzip 10_country_test.zip\n",
        "!cp -r ./10_country_train_1/* ./10_country_train_2 && rm -R ./10_country_train_1/*"
      ],
      "execution_count": 0,
      "outputs": []
    },
    {
      "metadata": {
        "id": "Ve_nYMw22bPe",
        "colab_type": "text"
      },
      "cell_type": "markdown",
      "source": [
        "## 3. Import Necessary library"
      ]
    },
    {
      "metadata": {
        "colab_type": "code",
        "id": "2VfspAvjQmfU",
        "outputId": "6839a1a3-3f63-4e57-8f07-edd1fbd4cef2",
        "colab": {
          "base_uri": "https://localhost:8080/",
          "height": 34
        }
      },
      "cell_type": "code",
      "source": [
        "import os\n",
        "import matplotlib.pyplot as plt\n",
        "%matplotlib inline\n",
        "import numpy as np\n",
        "from sklearn.metrics import  confusion_matrix\n",
        "\n",
        "from __future__ import print_function\n",
        "\n",
        "import keras\n",
        "from keras import backend as K\n",
        "from IPython.display import SVG\n",
        "from keras.optimizers import Adam\n",
        "from keras.utils import plot_model\n",
        "from keras.models import load_model\n",
        "from keras.models import Model, Sequential\n",
        "from keras.callbacks import ReduceLROnPlateau\n",
        "from keras.utils.vis_utils import model_to_dot\n",
        "from keras.utils.generic_utils import get_custom_objects\n",
        "from keras.preprocessing.image import ImageDataGenerator\n",
        "from keras.layers import Input, Conv2D, Dense, Flatten, MaxPool2D\n",
        "from keras.layers import Activation, Add, BatchNormalization, Dropout"
      ],
      "execution_count": 3,
      "outputs": [
        {
          "output_type": "stream",
          "text": [
            "Using TensorFlow backend.\n"
          ],
          "name": "stderr"
        }
      ]
    },
    {
      "metadata": {
        "id": "07cqCZdN2zMv",
        "colab_type": "text"
      },
      "cell_type": "markdown",
      "source": [
        "## 4. Define the model\n",
        "I used the Keras Sequential API, where you have just to add one layer at a time, starting from the input.\n",
        "\n",
        "The CNN can isolate features that are useful everywhere from these transformed images (feature maps).\n",
        "\n",
        "Combining convolutional and pooling layers, CNN are able to combine local features and learn more global features of the image.\n",
        "Dropout is a regularization method, where a proportion of nodes in the layer are randomly ignored (setting their wieghts to zero) for each training sample. This drops randomly a propotion of the network and forces the network to learn features in a distributed way. This technique also improves generalization and reduces the overfitting.\n",
        "\n",
        "The Flatten layer is use to convert the final feature maps into a one single 1D vector. This flattening step is needed so that you can make use of fully connected layers after some convolutional/maxpool layers. It combines all the found local features of the previous convolutional layers.\n",
        "\n",
        "In the end i used the features in two fully-connected (Dense) layers which is just artificial an neural networks (ANN) classifier. In the last layer(Dense(10,activation=\"sigmoid\")) the net outputs distribution of probability of each class."
      ]
    },
    {
      "metadata": {
        "colab_type": "code",
        "id": "j_bXUSmYQ4mL",
        "outputId": "c20326bc-aa5e-4b8b-d59f-a258ec9bd127",
        "colab": {
          "base_uri": "https://localhost:8080/",
          "height": 714
        }
      },
      "cell_type": "code",
      "source": [
        "# Set the CNN model \n",
        "\n",
        "model = Sequential()\n",
        "\n",
        "\n",
        "model.add(Conv2D(activation ='relu', input_shape = (64,64,3), filters=64, kernel_size=(3, 3), padding=\"SAME\", strides=(1, 1)))\n",
        "model.add(Conv2D(activation ='relu',filters=64, kernel_size=(3, 3), padding=\"SAME\", strides=(1,1)))\n",
        "model.add(MaxPool2D(pool_size=(2, 2), strides=(2, 2)))\n",
        "\n",
        "\n",
        "model.add(Conv2D(activation ='relu', filters=512, kernel_size=(3, 3), padding=\"SAME\", strides=(1, 1)))\n",
        "model.add(Conv2D(activation ='relu', filters=512, kernel_size=(3, 3), padding=\"SAME\", strides=(1, 1)))\n",
        "model.add(MaxPool2D(pool_size=(2, 2), strides=(2, 2)))\n",
        "\n",
        "\n",
        "model.add(Conv2D(activation ='relu', filters=256, kernel_size=(3, 3), padding=\"SAME\", strides=(1, 1)))\n",
        "model.add(Conv2D(activation ='relu', filters=256, kernel_size=(3, 3), padding=\"SAME\", strides=(1, 1)))\n",
        "model.add(Conv2D(activation ='relu', filters=256, kernel_size=(3, 3), padding=\"SAME\", strides=(1, 1)))\n",
        "model.add(MaxPool2D(pool_size=(2, 2), strides=(2, 2)))\n",
        "\n",
        "\n",
        "model.add(Conv2D(activation ='relu', filters=128, kernel_size=(3, 3), padding=\"SAME\", strides=(1, 1)))\n",
        "model.add(Conv2D(activation ='relu', filters=128, kernel_size=(3, 3), padding=\"SAME\", strides=(1, 1)))\n",
        "model.add(MaxPool2D(pool_size=(2, 2), strides=(2, 2)))\n",
        "\n",
        "\n",
        "\n",
        "model.add(Flatten())\n",
        "model.add(Dense(units = 100, activation='relu'))\n",
        "model.add(Dropout(0.5))\n",
        "model.add(Dense(units = 10, activation='softmax', kernel_initializer='uniform'))\n",
        "\n",
        "model.summary()"
      ],
      "execution_count": 4,
      "outputs": [
        {
          "output_type": "stream",
          "text": [
            "_________________________________________________________________\n",
            "Layer (type)                 Output Shape              Param #   \n",
            "=================================================================\n",
            "conv2d_1 (Conv2D)            (None, 64, 64, 64)        1792      \n",
            "_________________________________________________________________\n",
            "conv2d_2 (Conv2D)            (None, 64, 64, 64)        36928     \n",
            "_________________________________________________________________\n",
            "max_pooling2d_1 (MaxPooling2 (None, 32, 32, 64)        0         \n",
            "_________________________________________________________________\n",
            "conv2d_3 (Conv2D)            (None, 32, 32, 512)       295424    \n",
            "_________________________________________________________________\n",
            "conv2d_4 (Conv2D)            (None, 32, 32, 512)       2359808   \n",
            "_________________________________________________________________\n",
            "max_pooling2d_2 (MaxPooling2 (None, 16, 16, 512)       0         \n",
            "_________________________________________________________________\n",
            "conv2d_5 (Conv2D)            (None, 16, 16, 256)       1179904   \n",
            "_________________________________________________________________\n",
            "conv2d_6 (Conv2D)            (None, 16, 16, 256)       590080    \n",
            "_________________________________________________________________\n",
            "conv2d_7 (Conv2D)            (None, 16, 16, 256)       590080    \n",
            "_________________________________________________________________\n",
            "max_pooling2d_3 (MaxPooling2 (None, 8, 8, 256)         0         \n",
            "_________________________________________________________________\n",
            "conv2d_8 (Conv2D)            (None, 8, 8, 128)         295040    \n",
            "_________________________________________________________________\n",
            "conv2d_9 (Conv2D)            (None, 8, 8, 128)         147584    \n",
            "_________________________________________________________________\n",
            "max_pooling2d_4 (MaxPooling2 (None, 4, 4, 128)         0         \n",
            "_________________________________________________________________\n",
            "flatten_1 (Flatten)          (None, 2048)              0         \n",
            "_________________________________________________________________\n",
            "dense_1 (Dense)              (None, 100)               204900    \n",
            "_________________________________________________________________\n",
            "dropout_1 (Dropout)          (None, 100)               0         \n",
            "_________________________________________________________________\n",
            "dense_2 (Dense)              (None, 10)                1010      \n",
            "=================================================================\n",
            "Total params: 5,702,550\n",
            "Trainable params: 5,702,550\n",
            "Non-trainable params: 0\n",
            "_________________________________________________________________\n"
          ],
          "name": "stdout"
        }
      ]
    },
    {
      "metadata": {
        "id": "wIkzWdTr24z9",
        "colab_type": "text"
      },
      "cell_type": "markdown",
      "source": [
        "## 5. Optimizer and Annealer\n",
        "Once our layers are added to the model, we need to set up a score function, a loss function and an optimisation algorithm.\n",
        "\n",
        "We define the loss function to measure how poorly our model performs on images with known labels. It is the error rate between the oberved labels and the predicted ones. We use a specific form for categorical classifications (>2 classes) called the \"categorical_crossentropy\".\n",
        "\n",
        "The most important function is the optimizer. This function will iteratively improve parameters (filters kernel values, weights and bias of neurons ...) in order to minimise the loss.\n",
        "\n",
        "I choosed adam (with default values), This is used to perform optimization and is one of the best optimizer at present. The author claims that it inherits from RMSProp and AdaGrad (Well it inherits from them).\n",
        "\n",
        "The metric function \"accuracy\" is used is to evaluate the performance our model. This metric function is similar to the loss function, except that the results from the metric evaluation are not used when training the model (only for evaluation)."
      ]
    },
    {
      "metadata": {
        "colab_type": "code",
        "id": "Hss8niy_Q6zm",
        "colab": {}
      },
      "cell_type": "code",
      "source": [
        "# Define the optimizer\n",
        "optimizer = Adam(lr=0.001)"
      ],
      "execution_count": 0,
      "outputs": []
    },
    {
      "metadata": {
        "id": "Jr2FZXn61oLj",
        "colab_type": "code",
        "colab": {}
      },
      "cell_type": "code",
      "source": [
        "# Compile the model\n",
        "model.compile(loss='categorical_crossentropy', optimizer = optimizer, metrics=[\"accuracy\"])"
      ],
      "execution_count": 0,
      "outputs": []
    },
    {
      "metadata": {
        "id": "bZ8gnCVV1oLo",
        "colab_type": "text"
      },
      "cell_type": "markdown",
      "source": [
        "\n",
        "In order to make the optimizer converge faster and closest to the global minimum of the loss function, i used an annealing method of the learning rate (LR).\n",
        "\n",
        "The LR is the step by which the optimizer walks through the 'loss landscape'. The higher LR, the bigger are the steps and the quicker is the convergence. However the sampling is very poor with an high LR and the optimizer could probably fall into a local minima.\n",
        "\n",
        "Its better to have a decreasing learning rate during the training to reach efficiently the global minimum of the loss function.\n",
        "\n",
        "To keep the advantage of the fast computation time with a high LR, i decreased the LR dynamically every X steps (epochs) depending if it is necessary (when accuracy is not improved).\n",
        "\n",
        "With the ReduceLROnPlateau function from Keras.callbacks, i choose to reduce the LR by half if the accuracy is not improved after 3 epochs."
      ]
    },
    {
      "metadata": {
        "id": "KuncB1Nx1oLq",
        "colab_type": "code",
        "colab": {}
      },
      "cell_type": "code",
      "source": [
        "# Set a learning rate annealer\n",
        "learning_rate_reduction = ReduceLROnPlateau(monitor='val_acc', \n",
        "                                            patience=3, \n",
        "                                            verbose=1, \n",
        "                                            factor=0.5, \n",
        "                                            min_lr=0.00001)"
      ],
      "execution_count": 0,
      "outputs": []
    },
    {
      "metadata": {
        "id": "XQN1f5XO3ZTf",
        "colab_type": "text"
      },
      "cell_type": "markdown",
      "source": [
        "## 6. Data augmentation\n",
        "In order to avoid overfitting problem, we need to expand artificially our handwritten digit dataset. We can make your existing dataset even larger.\n",
        "\n",
        "Approaches that alter the training data in ways that change the array representation while keeping the label the same are known as data augmentation techniques. Some popular augmentations people use are grayscales, horizontal flips, vertical flips, random crops, color jitters, translations, rotations, and much more.\n",
        "\n",
        "By applying just a couple of these transformations to our training data, we can easily double or triple the number of training examples and create a very robust model."
      ]
    },
    {
      "metadata": {
        "colab_type": "code",
        "id": "-Kbob1XeQ9S4",
        "colab": {}
      },
      "cell_type": "code",
      "source": [
        "train_datagen = ImageDataGenerator(\n",
        "                                    rotation_range=40,\n",
        "                                    width_shift_range=0.2,\n",
        "                                    height_shift_range=0.2,\n",
        "                                    rescale=1./255,\n",
        "                                    shear_range=0.2,\n",
        "                                    zoom_range=0.2,\n",
        "                                    horizontal_flip=True,\n",
        "                                    fill_mode='nearest')\n",
        "\n",
        "\n",
        "test_datagen = ImageDataGenerator(rotation_range=40,\n",
        "                                    width_shift_range=0.2,\n",
        "                                    height_shift_range=0.2,\n",
        "                                    rescale=1./255,\n",
        "                                    shear_range=0.2,\n",
        "                                    zoom_range=0.2,\n",
        "                                    horizontal_flip=True,\n",
        "                                    fill_mode='nearest')"
      ],
      "execution_count": 0,
      "outputs": []
    },
    {
      "metadata": {
        "colab_type": "code",
        "id": "wfA_UbwuQ_Of",
        "outputId": "66adba38-5231-4659-a96c-3b730de86a97",
        "colab": {
          "base_uri": "https://localhost:8080/",
          "height": 51
        }
      },
      "cell_type": "code",
      "source": [
        "train_generator = train_datagen.flow_from_directory(\n",
        "                                                    '10_country_train_2/train/',\n",
        "                                                    target_size=(64, 64),\n",
        "                                                    batch_size=30,\n",
        "                                                    color_mode='rgb',\n",
        "                                                    class_mode='categorical')\n",
        "\n",
        "validation_generator = test_datagen.flow_from_directory(\n",
        "                                                    '10_country_test/test',\n",
        "                                                    target_size=(64, 64),\n",
        "                                                    batch_size=30,\n",
        "                                                    color_mode='rgb',\n",
        "                                                    class_mode='categorical')"
      ],
      "execution_count": 9,
      "outputs": [
        {
          "output_type": "stream",
          "text": [
            "Found 4283 images belonging to 10 classes.\n",
            "Found 1049 images belonging to 10 classes.\n"
          ],
          "name": "stdout"
        }
      ]
    },
    {
      "metadata": {
        "colab_type": "code",
        "id": "CBxuPlMWbGr_",
        "colab": {}
      },
      "cell_type": "code",
      "source": [
        "from PIL import ImageFile\n",
        "ImageFile.LOAD_TRUNCATED_IMAGES = True"
      ],
      "execution_count": 0,
      "outputs": []
    },
    {
      "metadata": {
        "id": "7BA30ktx3c97",
        "colab_type": "text"
      },
      "cell_type": "markdown",
      "source": [
        "## 7. Train The model for 50 Epoc"
      ]
    },
    {
      "metadata": {
        "colab_type": "code",
        "id": "aKOcGlv0RDCO",
        "outputId": "df38488c-a302-4cbc-e43f-6ea364e9f93a",
        "colab": {
          "base_uri": "https://localhost:8080/",
          "height": 1955
        }
      },
      "cell_type": "code",
      "source": [
        "history = model.fit_generator(\n",
        "                    train_generator,\n",
        "                    steps_per_epoch=4283 /30,\n",
        "                    epochs=50,\n",
        "                    validation_data=validation_generator,\n",
        "                    validation_steps=50,\n",
        "                    verbose=1,\n",
        "                    callbacks=[learning_rate_reduction])"
      ],
      "execution_count": 11,
      "outputs": [
        {
          "output_type": "stream",
          "text": [
            "Epoch 1/50\n",
            "143/142 [==============================] - 39s 270ms/step - loss: 2.3001 - acc: 0.1283 - val_loss: 2.1511 - val_acc: 0.2355\n",
            "Epoch 2/50\n",
            "143/142 [==============================] - 32s 227ms/step - loss: 1.7114 - acc: 0.3430 - val_loss: 1.0987 - val_acc: 0.5430\n",
            "Epoch 3/50\n",
            "143/142 [==============================] - 33s 228ms/step - loss: 1.0616 - acc: 0.5688 - val_loss: 0.8509 - val_acc: 0.6651\n",
            "Epoch 4/50\n",
            "143/142 [==============================] - 33s 228ms/step - loss: 0.9485 - acc: 0.6554 - val_loss: 0.7565 - val_acc: 0.7151\n",
            "Epoch 5/50\n",
            "143/142 [==============================] - 32s 225ms/step - loss: 0.7584 - acc: 0.7380 - val_loss: 0.5758 - val_acc: 0.8012\n",
            "Epoch 6/50\n",
            "143/142 [==============================] - 32s 226ms/step - loss: 0.6542 - acc: 0.7596 - val_loss: 0.4458 - val_acc: 0.8379\n",
            "Epoch 7/50\n",
            "143/142 [==============================] - 33s 229ms/step - loss: 0.6403 - acc: 0.7746 - val_loss: 0.4818 - val_acc: 0.8219\n",
            "Epoch 8/50\n",
            "143/142 [==============================] - 33s 228ms/step - loss: 0.5170 - acc: 0.8096 - val_loss: 0.4122 - val_acc: 0.8366\n",
            "Epoch 9/50\n",
            "143/142 [==============================] - 33s 230ms/step - loss: 0.5159 - acc: 0.8121 - val_loss: 0.7590 - val_acc: 0.7218\n",
            "\n",
            "Epoch 00009: ReduceLROnPlateau reducing learning rate to 0.0005000000237487257.\n",
            "Epoch 10/50\n",
            "143/142 [==============================] - 32s 225ms/step - loss: 0.4154 - acc: 0.8638 - val_loss: 0.2640 - val_acc: 0.9179\n",
            "Epoch 11/50\n",
            "143/142 [==============================] - 33s 228ms/step - loss: 0.3124 - acc: 0.9073 - val_loss: 0.2447 - val_acc: 0.9280\n",
            "Epoch 12/50\n",
            "143/142 [==============================] - 32s 226ms/step - loss: 0.2968 - acc: 0.9136 - val_loss: 0.2714 - val_acc: 0.9219\n",
            "Epoch 13/50\n",
            "143/142 [==============================] - 33s 228ms/step - loss: 0.2626 - acc: 0.9298 - val_loss: 0.1616 - val_acc: 0.9533\n",
            "Epoch 14/50\n",
            "143/142 [==============================] - 32s 226ms/step - loss: 0.2006 - acc: 0.9413 - val_loss: 0.1345 - val_acc: 0.9620\n",
            "Epoch 15/50\n",
            "143/142 [==============================] - 33s 227ms/step - loss: 0.2095 - acc: 0.9426 - val_loss: 0.1632 - val_acc: 0.9533\n",
            "Epoch 16/50\n",
            "143/142 [==============================] - 32s 226ms/step - loss: 0.1693 - acc: 0.9528 - val_loss: 0.2148 - val_acc: 0.9533\n",
            "Epoch 17/50\n",
            "143/142 [==============================] - 32s 226ms/step - loss: 0.1716 - acc: 0.9535 - val_loss: 0.1156 - val_acc: 0.9640\n",
            "Epoch 18/50\n",
            "143/142 [==============================] - 33s 229ms/step - loss: 0.1679 - acc: 0.9503 - val_loss: 0.1271 - val_acc: 0.9626\n",
            "Epoch 19/50\n",
            "143/142 [==============================] - 33s 228ms/step - loss: 0.1588 - acc: 0.9548 - val_loss: 0.1057 - val_acc: 0.9620\n",
            "Epoch 20/50\n",
            "143/142 [==============================] - 32s 226ms/step - loss: 0.1642 - acc: 0.9538 - val_loss: 0.1281 - val_acc: 0.9653\n",
            "Epoch 21/50\n",
            "143/142 [==============================] - 33s 228ms/step - loss: 0.1624 - acc: 0.9556 - val_loss: 0.1013 - val_acc: 0.9693\n",
            "Epoch 22/50\n",
            "143/142 [==============================] - 32s 227ms/step - loss: 0.1428 - acc: 0.9643 - val_loss: 0.1231 - val_acc: 0.9733\n",
            "Epoch 23/50\n",
            "143/142 [==============================] - 33s 228ms/step - loss: 0.1504 - acc: 0.9603 - val_loss: 0.1402 - val_acc: 0.9606\n",
            "Epoch 24/50\n",
            "143/142 [==============================] - 33s 227ms/step - loss: 0.1373 - acc: 0.9640 - val_loss: 0.1078 - val_acc: 0.9700\n",
            "Epoch 25/50\n",
            "143/142 [==============================] - 33s 229ms/step - loss: 0.1205 - acc: 0.9685 - val_loss: 0.1172 - val_acc: 0.9713\n",
            "\n",
            "Epoch 00025: ReduceLROnPlateau reducing learning rate to 0.0002500000118743628.\n",
            "Epoch 26/50\n",
            "143/142 [==============================] - 33s 228ms/step - loss: 0.0985 - acc: 0.9727 - val_loss: 0.0756 - val_acc: 0.9813\n",
            "Epoch 27/50\n",
            "143/142 [==============================] - 33s 229ms/step - loss: 0.0926 - acc: 0.9769 - val_loss: 0.0852 - val_acc: 0.9740\n",
            "Epoch 28/50\n",
            "143/142 [==============================] - 33s 230ms/step - loss: 0.0917 - acc: 0.9748 - val_loss: 0.0768 - val_acc: 0.9800\n",
            "Epoch 29/50\n",
            "143/142 [==============================] - 32s 226ms/step - loss: 0.0869 - acc: 0.9744 - val_loss: 0.0889 - val_acc: 0.9767\n",
            "\n",
            "Epoch 00029: ReduceLROnPlateau reducing learning rate to 0.0001250000059371814.\n",
            "Epoch 30/50\n",
            "143/142 [==============================] - 32s 227ms/step - loss: 0.0859 - acc: 0.9757 - val_loss: 0.0690 - val_acc: 0.9800\n",
            "Epoch 31/50\n",
            "143/142 [==============================] - 32s 227ms/step - loss: 0.0614 - acc: 0.9807 - val_loss: 0.0618 - val_acc: 0.9853\n",
            "Epoch 32/50\n",
            "143/142 [==============================] - 32s 227ms/step - loss: 0.0524 - acc: 0.9832 - val_loss: 0.0808 - val_acc: 0.9767\n",
            "Epoch 33/50\n",
            "143/142 [==============================] - 33s 228ms/step - loss: 0.0625 - acc: 0.9814 - val_loss: 0.0838 - val_acc: 0.9813\n",
            "Epoch 34/50\n",
            "143/142 [==============================] - 32s 226ms/step - loss: 0.0602 - acc: 0.9821 - val_loss: 0.0818 - val_acc: 0.9800\n",
            "\n",
            "Epoch 00034: ReduceLROnPlateau reducing learning rate to 6.25000029685907e-05.\n",
            "Epoch 35/50\n",
            "143/142 [==============================] - 33s 230ms/step - loss: 0.0592 - acc: 0.9853 - val_loss: 0.0972 - val_acc: 0.9753\n",
            "Epoch 36/50\n",
            "143/142 [==============================] - 33s 229ms/step - loss: 0.0464 - acc: 0.9876 - val_loss: 0.0672 - val_acc: 0.9840\n",
            "Epoch 37/50\n",
            "143/142 [==============================] - 33s 231ms/step - loss: 0.0546 - acc: 0.9834 - val_loss: 0.0881 - val_acc: 0.9820\n",
            "\n",
            "Epoch 00037: ReduceLROnPlateau reducing learning rate to 3.125000148429535e-05.\n",
            "Epoch 38/50\n",
            "143/142 [==============================] - 33s 227ms/step - loss: 0.0446 - acc: 0.9862 - val_loss: 0.0690 - val_acc: 0.9853\n",
            "Epoch 39/50\n",
            "143/142 [==============================] - 33s 228ms/step - loss: 0.0490 - acc: 0.9848 - val_loss: 0.0807 - val_acc: 0.9807\n",
            "Epoch 40/50\n",
            "143/142 [==============================] - 32s 226ms/step - loss: 0.0446 - acc: 0.9883 - val_loss: 0.0695 - val_acc: 0.9833\n",
            "\n",
            "Epoch 00040: ReduceLROnPlateau reducing learning rate to 1.5625000742147677e-05.\n",
            "Epoch 41/50\n",
            "143/142 [==============================] - 33s 230ms/step - loss: 0.0433 - acc: 0.9867 - val_loss: 0.0657 - val_acc: 0.9847\n",
            "Epoch 42/50\n",
            "143/142 [==============================] - 32s 226ms/step - loss: 0.0368 - acc: 0.9888 - val_loss: 0.0571 - val_acc: 0.9893\n",
            "Epoch 43/50\n",
            "143/142 [==============================] - 32s 227ms/step - loss: 0.0417 - acc: 0.9886 - val_loss: 0.0451 - val_acc: 0.9907\n",
            "Epoch 44/50\n",
            "143/142 [==============================] - 32s 226ms/step - loss: 0.0337 - acc: 0.9909 - val_loss: 0.0555 - val_acc: 0.9880\n",
            "Epoch 45/50\n",
            "143/142 [==============================] - 33s 228ms/step - loss: 0.0437 - acc: 0.9883 - val_loss: 0.0708 - val_acc: 0.9853\n",
            "Epoch 46/50\n",
            "143/142 [==============================] - 32s 226ms/step - loss: 0.0409 - acc: 0.9872 - val_loss: 0.0581 - val_acc: 0.9880\n",
            "\n",
            "Epoch 00046: ReduceLROnPlateau reducing learning rate to 1e-05.\n",
            "Epoch 47/50\n",
            "143/142 [==============================] - 33s 231ms/step - loss: 0.0376 - acc: 0.9883 - val_loss: 0.0943 - val_acc: 0.9800\n",
            "Epoch 48/50\n",
            "143/142 [==============================] - 32s 226ms/step - loss: 0.0454 - acc: 0.9858 - val_loss: 0.0566 - val_acc: 0.9873\n",
            "Epoch 49/50\n",
            "143/142 [==============================] - 33s 229ms/step - loss: 0.0404 - acc: 0.9872 - val_loss: 0.0528 - val_acc: 0.9853\n",
            "Epoch 50/50\n",
            "143/142 [==============================] - 33s 228ms/step - loss: 0.0393 - acc: 0.9900 - val_loss: 0.0844 - val_acc: 0.9840\n"
          ],
          "name": "stdout"
        }
      ]
    },
    {
      "metadata": {
        "id": "A5jlInL_RDeZ",
        "colab_type": "text"
      },
      "cell_type": "markdown",
      "source": [
        "## 8. Training and validation curves\n",
        "The code below is for plotting loss and accuracy curves for training and validation. \n",
        "\n",
        "The model reaches almost 98% (98.2+%) accuracy on the validation dataset after 50 epochs. The diffrence between validation accuracy and the training accuracy almost same every time during the training. That means that our model dosen't not overfit the training set.\n",
        "\n",
        "Our model is very well trained !!!"
      ]
    },
    {
      "metadata": {
        "colab_type": "code",
        "id": "PynTiDhoRDuE",
        "outputId": "76d6b380-9970-4f0c-991e-bc33ff9850b4",
        "colab": {
          "base_uri": "https://localhost:8080/",
          "height": 265
        }
      },
      "cell_type": "code",
      "source": [
        "# Plot the loss and accuracy curves for training and validation \n",
        "fig, ax = plt.subplots(2,1)\n",
        "ax[0].plot(history.history['loss'], color='b', label=\"Training loss\")\n",
        "ax[0].plot(history.history['val_loss'], color='r', label=\"validation loss\",axes =ax[0])\n",
        "legend = ax[0].legend(loc='best', shadow=True)\n",
        "\n",
        "ax[1].plot(history.history['acc'], color='b', label=\"Training accuracy\")\n",
        "ax[1].plot(history.history['val_acc'], color='r',label=\"Validation accuracy\")\n",
        "legend = ax[1].legend(loc='best', shadow=True)"
      ],
      "execution_count": 12,
      "outputs": [
        {
          "output_type": "display_data",
          "data": {
            "image/png": "[encoded data removed]",
            "text/plain": [
              "<matplotlib.figure.Figure at 0x7f1fd038d978>"
            ]
          },
          "metadata": {
            "tags": []
          }
        }
      ]
    },
    {
      "metadata": {
        "id": "EgN7SF69RKKM",
        "colab_type": "text"
      },
      "cell_type": "markdown",
      "source": [
        "## 10. Check New Image"
      ]
    },
    {
      "metadata": {
        "id": "g446HHhF1oMk",
        "colab_type": "code",
        "colab": {
          "base_uri": "https://localhost:8080/",
          "height": 85
        },
        "outputId": "5b6b7576-4a71-4163-f45c-a556a6b97571"
      },
      "cell_type": "code",
      "source": [
        "from keras.preprocessing import image\n",
        "\n",
        "test = image.load_img('10_country_test/test/Argentina/0 (1).jpg',\n",
        "                      target_size=(64, 64))\n",
        "test = image.img_to_array(test)\n",
        "test = np.expand_dims(test, axis=0)\n",
        "\n",
        "print(model.predict(test))\n",
        "print(train_generator.class_indices)"
      ],
      "execution_count": 15,
      "outputs": [
        {
          "output_type": "stream",
          "text": [
            "[[1.56592730e-29 4.52052040e-09 1.38192875e-14 6.20377192e-04\n",
            "  2.81864475e-03 4.75782933e-13 9.43619938e-08 1.86119452e-02\n",
            "  1.50168953e-33 9.77948904e-01]]\n",
            "{'Argentina': 0, 'Australia': 1, 'Brazil': 2, 'China': 3, 'Germany': 4, 'Japan': 5, 'Mexico': 6, 'Russia': 7, 'Saudi Arabia': 8, 'Spain': 9}\n"
          ],
          "name": "stdout"
        }
      ]
    },
    {
      "metadata": {
        "id": "_Hnug4IM1oMp",
        "colab_type": "text"
      },
      "cell_type": "markdown",
      "source": [
        "### Thank You"
      ]
    }
  ]
}